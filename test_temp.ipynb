{
 "cells": [
  {
   "cell_type": "code",
   "execution_count": 54,
   "metadata": {},
   "outputs": [],
   "source": [
    "from scipy.io.wavfile import read, write\n",
    "import torchaudio\n",
    "import torch\n",
    "from librosa.util import normalize\n",
    "from librosa.filters import mel as librosa_mel_fn\n",
    "import numpy as np\n",
    "import librosa\n",
    "import librosa.display\n",
    "from tqdm import tqdm\n",
    "import os\n",
    "import soundfile as sf\n",
    "import matplotlib.pyplot as plt\n",
    "from transformers import CLIPTextModel, CLIPTokenizer, T5Tokenizer, T5EncoderModel, AutoTokenizer\n",
    "from diffusers import AutoencoderKL, UNet2DConditionModel, PNDMScheduler\n",
    "%matplotlib inline"
   ]
  },
  {
   "cell_type": "code",
   "execution_count": null,
   "metadata": {},
   "outputs": [],
   "source": [
    "temp_vae_path = \"/blob/v-yuancwang/AudioEditing/VAE_GAN/checkpoint-50000\"\n",
    "vae = AutoencoderKL.from_pretrained(temp_vae_path, subfolder=\"vae\")\n",
    "vae.requires_grad_(False)"
   ]
  },
  {
   "cell_type": "code",
   "execution_count": null,
   "metadata": {},
   "outputs": [],
   "source": [
    "torch_device = \"cuda:2\"\n",
    "vae.to(torch_device)"
   ]
  },
  {
   "cell_type": "code",
   "execution_count": null,
   "metadata": {},
   "outputs": [],
   "source": [
    "test_data_path = \"/blob/v-yuancwang/audio_editing_data/replacement/mel\"\n",
    "test_mel = np.load(os.path.join(test_data_path, \"replacementgen14_1.npy\"))\n",
    "plt.imshow(test_mel)"
   ]
  },
  {
   "cell_type": "code",
   "execution_count": null,
   "metadata": {},
   "outputs": [],
   "source": [
    "librosa.display.specshow(test_mel, sr=16000, hop_length=256, x_axis='time', y_axis='mel')\n",
    "plt.show()"
   ]
  },
  {
   "cell_type": "code",
   "execution_count": null,
   "metadata": {},
   "outputs": [],
   "source": [
    "with torch.no_grad():\n",
    "    res_mel = torch.Tensor([[test_mel]]).to(torch.float32)\n",
    "    res_mel = res_mel.to(torch_device)\n",
    "    print(res_mel.shape)\n",
    "    res_mel = vae(res_mel, sample_posterior=True).sample\n",
    "    res_mel = res_mel.cpu().numpy()[0,0,:,:]\n",
    "plt.imshow(res_mel)"
   ]
  },
  {
   "cell_type": "code",
   "execution_count": null,
   "metadata": {},
   "outputs": [],
   "source": [
    "librosa.display.specshow(res_mel, sr=16000, hop_length=256, x_axis='time', y_axis='mel')\n",
    "plt.show()"
   ]
  },
  {
   "cell_type": "code",
   "execution_count": null,
   "metadata": {},
   "outputs": [],
   "source": []
  },
  {
   "cell_type": "code",
   "execution_count": 59,
   "metadata": {},
   "outputs": [],
   "source": [
    "import shutil"
   ]
  },
  {
   "cell_type": "code",
   "execution_count": 60,
   "metadata": {},
   "outputs": [
    {
     "name": "stderr",
     "output_type": "stream",
     "text": [
      "100%|██████████| 200/200 [00:22<00:00,  8.82it/s]\n"
     ]
    }
   ],
   "source": [
    "wav_path = \"/blob/v-yuancwang/audio_editing_data/audiocaps/wav\"\n",
    "mel_path = \"/blob/v-yuancwang/audio_editing_data/audiocaps/mel\"\n",
    "with open(\"/home/v-yuancwang/AudioEditing/metadatas/audiocaps_train_metadata.jsonl\", \"r\") as f:\n",
    "    lines = f.readlines()\n",
    "lines = [eval(line) for line in lines]\n",
    "for i in tqdm(range(len(lines))[:200]):\n",
    "    wav_name = lines[i][\"file_name\"]\n",
    "    # shutil.copyfile(os.path.join(wav_path, wav_name), os.path.join(\"/home/v-yuancwang/AudioEditing/hifigan_test_vae_gt\", wav_name))\n",
    "    test_mel = np.load(os.path.join(mel_path, wav_name.replace(\".wav\", \".npy\")))\n",
    "    with torch.no_grad():\n",
    "        res_mel = torch.Tensor([[test_mel]]).to(torch.float32)\n",
    "        res_mel = res_mel.to(torch_device)\n",
    "        res_mel = vae(res_mel, sample_posterior=True).sample\n",
    "        res_mel = res_mel.cpu().numpy()[0,0,:,:]\n",
    "    np.save(os.path.join(\"/home/v-yuancwang/AudioEditing/hifigan_test_vae\",wav_name.replace(\".wav\", \".npy\")), res_mel)"
   ]
  }
 ],
 "metadata": {
  "kernelspec": {
   "display_name": "py3.7",
   "language": "python",
   "name": "python3"
  },
  "language_info": {
   "codemirror_mode": {
    "name": "ipython",
    "version": 3
   },
   "file_extension": ".py",
   "mimetype": "text/x-python",
   "name": "python",
   "nbconvert_exporter": "python",
   "pygments_lexer": "ipython3",
   "version": "3.7.16"
  },
  "orig_nbformat": 4,
  "vscode": {
   "interpreter": {
    "hash": "0ee27c2a92f1fff136d50aad92bfca040aea835edd9bacd8b4c989384ca9eab3"
   }
  }
 },
 "nbformat": 4,
 "nbformat_minor": 2
}
