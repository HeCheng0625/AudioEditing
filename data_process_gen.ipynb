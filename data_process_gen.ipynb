{
 "cells": [
  {
   "cell_type": "code",
   "execution_count": 13,
   "metadata": {},
   "outputs": [],
   "source": [
    "from scipy.io.wavfile import read, write\n",
    "import torchaudio\n",
    "import torch\n",
    "from librosa.util import normalize\n",
    "from librosa.filters import mel as librosa_mel_fn\n",
    "import numpy as np\n",
    "import librosa\n",
    "import librosa.display\n",
    "from tqdm import tqdm\n",
    "import os\n",
    "import soundfile as sf\n",
    "import matplotlib.pyplot as plt\n",
    "%matplotlib inline"
   ]
  },
  {
   "cell_type": "code",
   "execution_count": 3,
   "metadata": {},
   "outputs": [],
   "source": [
    "MAX_WAV_VALUE = 32768.0\n",
    "\n",
    "def load_wav(full_path):\n",
    "    sampling_rate, data = read(full_path)\n",
    "    return data, sampling_rate\n",
    "\n",
    "def dynamic_range_compression(x, C=1, clip_val=1e-5):\n",
    "    return np.log(np.clip(x, a_min=clip_val, a_max=None) * C)\n",
    "\n",
    "def dynamic_range_decompression(x, C=1):\n",
    "    return np.exp(x) / C\n",
    "\n",
    "def dynamic_range_compression_torch(x, C=1, clip_val=1e-5):\n",
    "    return torch.log(torch.clamp(x, min=clip_val) * C)\n",
    "\n",
    "def dynamic_range_decompression_torch(x, C=1):\n",
    "    return torch.exp(x) / C\n",
    "\n",
    "def spectral_normalize_torch(magnitudes):\n",
    "    output = dynamic_range_compression_torch(magnitudes)\n",
    "    return output\n",
    "\n",
    "def spectral_de_normalize_torch(magnitudes):\n",
    "    output = dynamic_range_decompression_torch(magnitudes)\n",
    "    return output\n",
    "\n",
    "mel_basis = {}\n",
    "hann_window = {}\n",
    "\n",
    "def mel_spectrogram(y, n_fft, num_mels, sampling_rate, hop_size, win_size, fmin, fmax, center=False):\n",
    "    if torch.min(y) < -1.:\n",
    "        print('min value is ', torch.min(y))\n",
    "    if torch.max(y) > 1.:\n",
    "        print('max value is ', torch.max(y))\n",
    "\n",
    "    global mel_basis, hann_window\n",
    "    if fmax not in mel_basis:\n",
    "        mel = librosa_mel_fn(sr=sampling_rate, n_fft=n_fft, n_mels=num_mels, fmin=fmin, fmax=fmax)\n",
    "        mel_basis[str(fmax)+'_'+str(y.device)] = torch.from_numpy(mel).float().to(y.device)\n",
    "        hann_window[str(y.device)] = torch.hann_window(win_size).to(y.device)\n",
    "\n",
    "    y = torch.nn.functional.pad(y.unsqueeze(1), (int((n_fft-hop_size)/2), int((n_fft-hop_size)/2)), mode='reflect')\n",
    "    y = y.squeeze(1)\n",
    "\n",
    "    spec = torch.stft(y, n_fft, hop_length=hop_size, win_length=win_size, window=hann_window[str(y.device)],\n",
    "                      center=center, pad_mode='reflect', normalized=False, onesided=True)\n",
    "\n",
    "    spec = torch.sqrt(spec.pow(2).sum(-1)+(1e-9))\n",
    "\n",
    "    spec = torch.matmul(mel_basis[str(fmax)+'_'+str(y.device)], spec)\n",
    "    spec = spectral_normalize_torch(spec)\n",
    "\n",
    "    return spec"
   ]
  },
  {
   "cell_type": "code",
   "execution_count": 44,
   "metadata": {},
   "outputs": [
    {
     "name": "stderr",
     "output_type": "stream",
     "text": [
      "100%|██████████| 28806/28806 [2:22:13<00:00,  3.38it/s]  \n"
     ]
    }
   ],
   "source": [
    "# data_path = \"/blob/v-yuancwang/speech/audiocaps/audiocaps/train/audio_10s/dummy\"\n",
    "# save_path = \"/blob/v-yuancwang/audio_editing_data/audiocaps\"\n",
    "# WAV_LENGTH = 16000 * 10 - 128\n",
    "# with open(\"/home/v-yuancwang/AudioEditing/metadatas/audiocaps_train_metadata.jsonl\", \"r\") as f:\n",
    "#     lines = f.readlines()\n",
    "# lines = [eval(line) for line in lines]\n",
    "# for line in tqdm(lines[:]):\n",
    "#     file_name, text = line['file_name'], line['text']\n",
    "#     wav, sr = librosa.load(os.path.join(data_path, file_name), sr=16000)\n",
    "#     if len(wav) < WAV_LENGTH:\n",
    "#         wav = np.pad(wav, (0, WAV_LENGTH - len(wav)), 'constant', constant_values=(0, 0))\n",
    "#     wav = wav[: WAV_LENGTH]\n",
    "#     x = torch.FloatTensor(wav)\n",
    "#     # print(len(x))\n",
    "#     x = mel_spectrogram(x.unsqueeze(0), n_fft=1024, num_mels=80, sampling_rate=16000,\n",
    "#                     hop_size=256, win_size=1024, fmin=0, fmax=8000)\n",
    "#     # print(x.shape)\n",
    "#     spec = x.cpu().numpy()[0]\n",
    "#     # print(spec.shape)\n",
    "#     wav = wav * MAX_WAV_VALUE\n",
    "#     wav = wav.astype('int16')\n",
    "#     write(os.path.join(save_path, \"wav\", file_name), 16000, wav)\n",
    "#     np.save(os.path.join(save_path, \"mel\", file_name.replace(\".wav\", \".npy\")), spec)"
   ]
  },
  {
   "cell_type": "code",
   "execution_count": 7,
   "metadata": {},
   "outputs": [],
   "source": [
    "data_path = \"/blob/v-yuancwang/FSD50K/FSD50K.dev_audio\"\n",
    "save_path = \"/blob/v-yuancwang/audio_editing_data/fsd50k\"\n",
    "WAV_LENGTH = 16000 * 10 - 128\n",
    "wav_files = os.listdir(data_path)"
   ]
  },
  {
   "cell_type": "code",
   "execution_count": 16,
   "metadata": {},
   "outputs": [
    {
     "name": "stderr",
     "output_type": "stream",
     "text": [
      "100%|██████████| 40966/40966 [4:48:06<00:00,  2.37it/s]    \n"
     ]
    }
   ],
   "source": [
    "fsd_short, fsd_long = [], []\n",
    "for file_name in tqdm(wav_files[:]):\n",
    "    wav, sr = librosa.load(os.path.join(data_path, file_name), sr=16000)\n",
    "    wav = np.clip(wav, -1, 1)\n",
    "    if len(wav) < WAV_LENGTH // 2:\n",
    "        wav = np.pad(wav, (0, WAV_LENGTH // 2 - len(wav)), 'constant', constant_values=(0, 0))\n",
    "        wav = wav[: WAV_LENGTH // 2]\n",
    "        fsd_short.append(file_name)\n",
    "    elif len(wav) < WAV_LENGTH:\n",
    "        wav = np.pad(wav, (0, WAV_LENGTH - len(wav)), 'constant', constant_values=(0, 0))\n",
    "        wav = wav[: WAV_LENGTH]\n",
    "        fsd_long.append(file_name)\n",
    "    else:\n",
    "        wav = wav[: WAV_LENGTH]\n",
    "        fsd_long.append(file_name)\n",
    "    x = torch.FloatTensor(wav)\n",
    "    # print(len(x))\n",
    "    x = mel_spectrogram(x.unsqueeze(0), n_fft=1024, num_mels=80, sampling_rate=16000,\n",
    "                    hop_size=256, win_size=1024, fmin=0, fmax=8000)\n",
    "    # print(x.shape)\n",
    "    spec = x.cpu().numpy()[0]\n",
    "    # print(spec.shape)\n",
    "    wav = wav * MAX_WAV_VALUE\n",
    "    wav = wav.astype('int16')\n",
    "    write(os.path.join(save_path, \"wav\", file_name), 16000, wav)\n",
    "    np.save(os.path.join(save_path, \"mel\", file_name.replace(\".wav\", \".npy\")), spec)\n",
    "\n",
    "with open(\"/home/v-yuancwang/AudioEditing/metadatas/fsd50k_long.txt\", \"w\") as f:\n",
    "    for file_name in fsd_long:\n",
    "        f.write(file_name + \"/n\")\n",
    "with open(\"/home/v-yuancwang/AudioEditing/metadatas/fsd50k_short.txt\", \"w\") as f:\n",
    "    for file_name in fsd_short:\n",
    "        f.write(file_name + \"/n\")"
   ]
  },
  {
   "cell_type": "code",
   "execution_count": null,
   "metadata": {},
   "outputs": [],
   "source": []
  },
  {
   "cell_type": "code",
   "execution_count": null,
   "metadata": {},
   "outputs": [],
   "source": [
    "# metadata = torchaudio.info(\"/home/v-yuancwang/AudioEditing/hifigan_test_wavs/--0w1YA1Hm4.wav\")\n",
    "# print(metadata)\n",
    "# wav, sr = librosa.load(\"/home/v-yuancwang/AudioEditing/hifigan_test_wavs/--0w1YA1Hm4.wav\", sr=16000)\n",
    "# wav = wav * MAX_WAV_VALUE\n",
    "# wav = wav.astype('int16')\n",
    "# # write(os.path.join(\"/home/v-yuancwang/AudioEditing\", \"test.wav\"), 16000, wav)\n",
    "# sf.write(os.path.join(\"/home/v-yuancwang/AudioEditing\", \"test.wav\"), wav, 16000)\n",
    "# metadata = torchaudio.info(os.path.join(\"/home/v-yuancwang/AudioEditing\", \"test.wav\"))\n",
    "# print(metadata)"
   ]
  }
 ],
 "metadata": {
  "kernelspec": {
   "display_name": "py3.7",
   "language": "python",
   "name": "python3"
  },
  "language_info": {
   "codemirror_mode": {
    "name": "ipython",
    "version": 3
   },
   "file_extension": ".py",
   "mimetype": "text/x-python",
   "name": "python",
   "nbconvert_exporter": "python",
   "pygments_lexer": "ipython3",
   "version": "3.7.16"
  },
  "orig_nbformat": 4,
  "vscode": {
   "interpreter": {
    "hash": "0ee27c2a92f1fff136d50aad92bfca040aea835edd9bacd8b4c989384ca9eab3"
   }
  }
 },
 "nbformat": 4,
 "nbformat_minor": 2
}
