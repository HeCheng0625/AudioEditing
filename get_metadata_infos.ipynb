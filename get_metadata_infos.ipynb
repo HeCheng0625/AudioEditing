{
 "cells": [
  {
   "cell_type": "code",
   "execution_count": 1,
   "metadata": {},
   "outputs": [],
   "source": [
    "import os\n",
    "import pandas as pd\n",
    "import numpy as np"
   ]
  },
  {
   "cell_type": "code",
   "execution_count": 17,
   "metadata": {},
   "outputs": [
    {
     "name": "stdout",
     "output_type": "stream",
     "text": [
      "43306\n",
      "169001\n"
     ]
    }
   ],
   "source": [
    "ac_data_path = \"/blob/v-yuancwang/audio_editing_data/audiocaps/mel\"\n",
    "inpainting_data_path = \"/blob/v-yuancwang/audio_editing_data/inpainting/mel\"\n",
    "with open(\"/home/v-yuancwang/AudioEditing/metadatas/audiocaps_train_metadata.jsonl\", \"r\") as f:\n",
    "    lines = f.readlines()\n",
    "lines = [eval(line) for line in lines]\n",
    "audiocaps_dict = {}\n",
    "for line in lines:\n",
    "    audiocaps_dict[line[\"file_name\"]] = line[\"text\"]\n",
    "print(len(audiocaps_dict))\n",
    "\n",
    "as_data_path = \"/blob/v-yuancwang/audio_editing_data/audioset96/mel\"\n",
    "with open(\"/home/v-yuancwang/AudioEditing/metadatas/audioset96_file_label.txt\", \"r\") as f:\n",
    "    lines = f.readlines()\n",
    "audiost96_dict = {}\n",
    "for line in lines:\n",
    "    k, v = line.replace(\"\\n\", \"\").split(\"   \")[0], line.replace(\"\\n\", \"\").split(\"   \")[1]\n",
    "    audiost96_dict[k] = v.replace(\"_\", \" \", 5)\n",
    "print(len(audiost96_dict))\n",
    "\n",
    "\n",
    "with open(\"/home/v-yuancwang/AudioEditing/metadata_infos/inpainting.txt\", \"w\") as f:\n",
    "    for k, v in audiocaps_dict.items():\n",
    "        src = os.path.join(inpainting_data_path, k.replace(\".wav\", \".npy\"))\n",
    "        tgt = os.path.join(ac_data_path, k.replace(\".wav\", \".npy\"))\n",
    "        text = np.random.choice([\"Inpainting: \", \"inpainting: \", \"inpainting:\", \"Inpainting:\", \"Inpaint: \"]) + v\n",
    "        f.write(src + \"   \" + tgt + \"   \" + text + \"\\n\")\n",
    "    with open(\"/home/v-yuancwang/AudioEditing/metadatas/audioset96_inpainting_0.txt\", \"r\") as ff:\n",
    "        lines = ff.readlines()\n",
    "        for line in lines:\n",
    "            k = line.split(\" \")[0]\n",
    "            v = audiost96_dict[k]\n",
    "            src = os.path.join(inpainting_data_path, k.replace(\".wav\", \".npy\"))\n",
    "            tgt = os.path.join(as_data_path, k.replace(\".wav\", \".npy\"))     \n",
    "            text = np.random.choice([\"Inpainting: \", \"inpainting: \", \"inpainting:\", \"Inpainting:\", \"Inpaint: \"]) + v\n",
    "            f.write(src + \"   \" + tgt + \"   \" + text + \"\\n\")  \n",
    "    with open(\"/home/v-yuancwang/AudioEditing/metadatas/audioset96_inpainting_1.txt\", \"r\") as ff:\n",
    "        lines = ff.readlines()\n",
    "        for line in lines:\n",
    "            k = line.split(\" \")[0]\n",
    "            v = audiost96_dict[k]\n",
    "            src = os.path.join(inpainting_data_path, k.replace(\".wav\", \".npy\"))\n",
    "            tgt = os.path.join(as_data_path, k.replace(\".wav\", \".npy\"))     \n",
    "            text = np.random.choice([\"Inpainting: \", \"inpainting: \", \"inpainting:\", \"Inpainting:\", \"Inpaint: \"]) + v\n",
    "            f.write(src + \"   \" + tgt + \"   \" + text + \"\\n\")  "
   ]
  },
  {
   "cell_type": "code",
   "execution_count": null,
   "metadata": {},
   "outputs": [],
   "source": []
  }
 ],
 "metadata": {
  "kernelspec": {
   "display_name": "py3.7",
   "language": "python",
   "name": "python3"
  },
  "language_info": {
   "codemirror_mode": {
    "name": "ipython",
    "version": 3
   },
   "file_extension": ".py",
   "mimetype": "text/x-python",
   "name": "python",
   "nbconvert_exporter": "python",
   "pygments_lexer": "ipython3",
   "version": "3.7.16"
  },
  "orig_nbformat": 4,
  "vscode": {
   "interpreter": {
    "hash": "0ee27c2a92f1fff136d50aad92bfca040aea835edd9bacd8b4c989384ca9eab3"
   }
  }
 },
 "nbformat": 4,
 "nbformat_minor": 2
}
