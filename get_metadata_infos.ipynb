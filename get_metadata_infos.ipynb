{
 "cells": [
  {
   "cell_type": "code",
   "execution_count": 2,
   "metadata": {},
   "outputs": [],
   "source": [
    "import os\n",
    "import pandas as pd\n",
    "import numpy as np"
   ]
  },
  {
   "cell_type": "code",
   "execution_count": 3,
   "metadata": {},
   "outputs": [
    {
     "name": "stdout",
     "output_type": "stream",
     "text": [
      "43306\n",
      "169001\n"
     ]
    }
   ],
   "source": [
    "ac_data_path = \"/blob/v-yuancwang/audio_editing_data/audiocaps/mel\"\n",
    "inpainting_data_path = \"/blob/v-yuancwang/audio_editing_data/inpainting/mel\"\n",
    "with open(\"/home/v-yuancwang/AudioEditing/metadatas/audiocaps_train_metadata.jsonl\", \"r\") as f:\n",
    "    lines = f.readlines()\n",
    "lines = [eval(line) for line in lines]\n",
    "audiocaps_dict = {}\n",
    "for line in lines:\n",
    "    audiocaps_dict[line[\"file_name\"]] = line[\"text\"]\n",
    "print(len(audiocaps_dict))\n",
    "\n",
    "as_data_path = \"/blob/v-yuancwang/audio_editing_data/audioset96/mel\"\n",
    "with open(\"/home/v-yuancwang/AudioEditing/metadatas/audioset96_file_label.txt\", \"r\") as f:\n",
    "    lines = f.readlines()\n",
    "audiost96_dict = {}\n",
    "for line in lines:\n",
    "    k, v = line.replace(\"\\n\", \"\").split(\"   \")[0], line.replace(\"\\n\", \"\").split(\"   \")[1]\n",
    "    audiost96_dict[k] = v.replace(\"_\", \" \", 5)\n",
    "print(len(audiost96_dict))\n",
    "\n",
    "\n",
    "with open(\"/home/v-yuancwang/AudioEditing/metadata_infos/inpainting.txt\", \"w\") as f:\n",
    "    for k, v in audiocaps_dict.items():\n",
    "        src = os.path.join(inpainting_data_path, k.replace(\".wav\", \".npy\"))\n",
    "        tgt = os.path.join(ac_data_path, k.replace(\".wav\", \".npy\"))\n",
    "        text = np.random.choice([\"Inpainting: \", \"inpainting: \", \"inpainting:\", \"Inpainting:\", \"Inpaint: \"]) + v\n",
    "        f.write(src + \"   \" + tgt + \"   \" + text + \"\\n\")\n",
    "    with open(\"/home/v-yuancwang/AudioEditing/metadatas/audioset96_inpainting_0.txt\", \"r\") as ff:\n",
    "        lines = ff.readlines()\n",
    "        for line in lines:\n",
    "            k = line.split(\" \")[0]\n",
    "            v = audiost96_dict[k]\n",
    "            src = os.path.join(inpainting_data_path, k.replace(\".wav\", \".npy\"))\n",
    "            tgt = os.path.join(as_data_path, k.replace(\".wav\", \".npy\"))     \n",
    "            text = np.random.choice([\"Inpainting: \", \"inpainting: \", \"inpainting:\", \"Inpainting:\", \"Inpaint: \"]) + v\n",
    "            f.write(src + \"   \" + tgt + \"   \" + text + \"\\n\")  \n",
    "    with open(\"/home/v-yuancwang/AudioEditing/metadatas/audioset96_inpainting_1.txt\", \"r\") as ff:\n",
    "        lines = ff.readlines()\n",
    "        for line in lines:\n",
    "            k = line.split(\" \")[0]\n",
    "            v = audiost96_dict[k]\n",
    "            src = os.path.join(inpainting_data_path, k.replace(\".wav\", \".npy\"))\n",
    "            tgt = os.path.join(as_data_path, k.replace(\".wav\", \".npy\"))     \n",
    "            text = np.random.choice([\"Inpainting: \", \"inpainting: \", \"inpainting:\", \"Inpainting:\", \"Inpaint: \"]) + v\n",
    "            f.write(src + \"   \" + tgt + \"   \" + text + \"\\n\")  "
   ]
  },
  {
   "cell_type": "code",
   "execution_count": 4,
   "metadata": {},
   "outputs": [],
   "source": [
    "sr_data_path = \"/blob/v-yuancwang/audio_editing_data/sr/mel\"\n",
    "with open(\"/home/v-yuancwang/AudioEditing/metadata_infos/sr.txt\", \"w\") as f:\n",
    "    for k, v in audiocaps_dict.items():\n",
    "        src = os.path.join(sr_data_path, k.replace(\".wav\", \".npy\"))\n",
    "        tgt = os.path.join(ac_data_path, k.replace(\".wav\", \".npy\"))\n",
    "        text = np.random.choice([\"super resolution: \", \"Super resolution: \", \"Super-resolution:\", \"Super resolution:\", \"Super-resolution: \"]) + v\n",
    "        f.write(src + \"   \" + tgt + \"   \" + text + \"\\n\")\n",
    "    with open(\"/home/v-yuancwang/AudioEditing/metadatas/audioset96_inpainting_0.txt\", \"r\") as ff:\n",
    "        lines = ff.readlines()\n",
    "        for line in lines:\n",
    "            k = line.split(\" \")[0]\n",
    "            v = audiost96_dict[k]\n",
    "            src = os.path.join(sr_data_path, k.replace(\".wav\", \".npy\"))\n",
    "            tgt = os.path.join(as_data_path, k.replace(\".wav\", \".npy\"))     \n",
    "            text = np.random.choice([\"Inpainting: \", \"inpainting: \", \"inpainting:\", \"Inpainting:\", \"Inpaint: \"]) + v\n",
    "            f.write(src + \"   \" + tgt + \"   \" + text + \"\\n\")  \n",
    "    with open(\"/home/v-yuancwang/AudioEditing/metadatas/audioset96_inpainting_1.txt\", \"r\") as ff:\n",
    "        lines = ff.readlines()\n",
    "        for line in lines:\n",
    "            k = line.split(\" \")[0]\n",
    "            v = audiost96_dict[k]\n",
    "            src = os.path.join(sr_data_path, k.replace(\".wav\", \".npy\"))\n",
    "            tgt = os.path.join(as_data_path, k.replace(\".wav\", \".npy\"))     \n",
    "            text = np.random.choice([\"super resolution: \", \"Super resolution: \", \"Super-resolution:\", \"Super resolution:\", \"Super-resolution: \"]) + v\n",
    "            f.write(src + \"   \" + tgt + \"   \" + text + \"\\n\") "
   ]
  },
  {
   "cell_type": "code",
   "execution_count": 7,
   "metadata": {},
   "outputs": [],
   "source": [
    "replace_metas = []\n",
    "with open(\"/home/v-yuancwang/AudioEditing/metadatas/audioset_fsdesc_replacement.txt\", \"r\") as f:\n",
    "    lines = f.readlines()\n",
    "for line in lines:\n",
    "    f1, f2, t1, t2, _ = line.split(\"   \")\n",
    "    t1 = t1.replace(\"_\", \" \", 5)\n",
    "    t2 = t2.replace(\"_\", \" \", 5)\n",
    "    replace_metas.append((f1, f2, t1, t2))\n",
    "# print(replace_metas[: 5])\n",
    "replace_data_path = \"/blob/v-yuancwang/audio_editing_data/replacement/mel\"\n",
    "with open(\"/home/v-yuancwang/AudioEditing/metadata_infos/replacement.txt\", \"w\") as f:\n",
    "    for f1, f2, t1, t2 in replace_metas:\n",
    "        src = os.path.join(replace_data_path, f1.replace(\".wav\", \".npy\"))\n",
    "        tgt = os.path.join(replace_data_path, f2.replace(\".wav\", \".npy\"))\n",
    "        text = np.random.choice([\"replace: \", \"replacement: \", \"Replace: \", \"Replacement: \", \"Replacement:\"]) + t1.lower() + \" to \" + t2.lower()\n",
    "        f.write(src + \"   \" + tgt + \"   \" + text + \"\\n\")        "
   ]
  },
  {
   "cell_type": "code",
   "execution_count": 18,
   "metadata": {},
   "outputs": [],
   "source": [
    "add_metas = []\n",
    "with open(\"/home/v-yuancwang/AudioEditing/metadatas/audiocaps_add.txt\", \"r\") as f:\n",
    "    lines = f.readlines()\n",
    "for line in lines:\n",
    "    tgt, src, _, _, text, _ = line.split(\"   \")\n",
    "    src = os.path.join(ac_data_path, src.replace(\".wav\", \".npy\"))\n",
    "    text = text.replace(\"_\", \" \", 5)\n",
    "    text = text.replace(\"_\", \" \", 5)\n",
    "    add_metas.append((src, tgt, text))\n",
    "with open(\"/home/v-yuancwang/AudioEditing/metadatas/audioset_fsdesc_add.txt\", \"r\") as f:\n",
    "    lines = f.readlines()\n",
    "for line in lines:\n",
    "    tgt, src, _, _, text = line.split(\"   \")\n",
    "    src = os.path.join(as_data_path, src.replace(\".wav\", \".npy\"))\n",
    "    text = text.replace(\"\\n\", \"\")\n",
    "    text = text.replace(\"_\", \" \", 5)\n",
    "    text = text.replace(\"_\", \" \", 5)\n",
    "    add_metas.append((src, tgt, text))\n",
    "# add_metas[-5:]\n",
    "add_data_path = \"/blob/v-yuancwang/audio_editing_data/add/mel\"\n",
    "with open(\"/home/v-yuancwang/AudioEditing/metadata_infos/add.txt\", \"w\") as f:\n",
    "    for src, tgt, text in add_metas:\n",
    "        tgt = os.path.join(add_data_path, tgt.replace(\".wav\", \".npy\"))\n",
    "        text = np.random.choice([\"Add: \", \"add: \", \"Add: \", \"Add:\"]) + text\n",
    "        f.write(src + \"   \" + tgt + \"   \" + text + \"\\n\") "
   ]
  },
  {
   "cell_type": "code",
   "execution_count": 22,
   "metadata": {},
   "outputs": [],
   "source": [
    "drop_metas = []\n",
    "ac_data_path = \"/blob/v-yuancwang/audio_editing_data/audiocaps/mel\"\n",
    "as_data_path = \"/blob/v-yuancwang/audio_editing_data/audioset96/mel\"\n",
    "with open(\"/home/v-yuancwang/AudioEditing/metadatas/audiocaps_add.txt\", \"r\") as f:\n",
    "    lines = f.readlines()\n",
    "for line in lines:\n",
    "    src, tgt, _, _, text, _ = line.split(\"   \")\n",
    "    tgt = os.path.join(ac_data_path, tgt.replace(\".wav\", \".npy\"))\n",
    "    text = text.replace(\"_\", \" \", 5)\n",
    "    text = text.replace(\"_\", \" \", 5)\n",
    "    drop_metas.append((src, tgt, text))\n",
    "with open(\"/home/v-yuancwang/AudioEditing/metadatas/audioset_fsdesc_add.txt\", \"r\") as f:\n",
    "    lines = f.readlines()\n",
    "for line in lines:\n",
    "    src, tgt, _, _, text = line.split(\"   \")\n",
    "    tgt = os.path.join(as_data_path, tgt.replace(\".wav\", \".npy\"))\n",
    "    text = text.replace(\"\\n\", \"\")\n",
    "    text = text.replace(\"_\", \" \", 5)\n",
    "    text = text.replace(\"_\", \" \", 5)\n",
    "    drop_metas.append((src, tgt, text))\n",
    "drop_data_path = \"/blob/v-yuancwang/audio_editing_data/add/mel\"\n",
    "with open(\"/home/v-yuancwang/AudioEditing/metadata_infos/drop.txt\", \"w\") as f:\n",
    "    for src, tgt, text in drop_metas:\n",
    "        src = os.path.join(add_data_path, src.replace(\".wav\", \".npy\"))\n",
    "        text = np.random.choice([\"Drop: \", \"drop: \", \"Drop: \", \"Drop:\"]) + text\n",
    "        f.write(src + \"   \" + tgt + \"   \" + text + \"\\n\") "
   ]
  }
 ],
 "metadata": {
  "kernelspec": {
   "display_name": "py3.7",
   "language": "python",
   "name": "python3"
  },
  "language_info": {
   "codemirror_mode": {
    "name": "ipython",
    "version": 3
   },
   "file_extension": ".py",
   "mimetype": "text/x-python",
   "name": "python",
   "nbconvert_exporter": "python",
   "pygments_lexer": "ipython3",
   "version": "3.7.16"
  },
  "orig_nbformat": 4,
  "vscode": {
   "interpreter": {
    "hash": "0ee27c2a92f1fff136d50aad92bfca040aea835edd9bacd8b4c989384ca9eab3"
   }
  }
 },
 "nbformat": 4,
 "nbformat_minor": 2
}
