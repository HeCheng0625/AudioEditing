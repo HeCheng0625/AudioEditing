{
 "cells": [
  {
   "cell_type": "code",
   "execution_count": 1,
   "metadata": {},
   "outputs": [],
   "source": [
    "from scipy.io.wavfile import read, write\n",
    "import torchaudio\n",
    "import torch\n",
    "from librosa.util import normalize\n",
    "from librosa.filters import mel as librosa_mel_fn\n",
    "import numpy as np\n",
    "import librosa\n",
    "import librosa.display\n",
    "from tqdm import tqdm\n",
    "import os\n",
    "import soundfile as sf\n",
    "import matplotlib.pyplot as plt\n",
    "%matplotlib inline"
   ]
  },
  {
   "cell_type": "code",
   "execution_count": 2,
   "metadata": {},
   "outputs": [],
   "source": [
    "MAX_WAV_VALUE = 32768.0\n",
    "\n",
    "def load_wav(full_path):\n",
    "    sampling_rate, data = read(full_path)\n",
    "    return data, sampling_rate\n",
    "\n",
    "def dynamic_range_compression(x, C=1, clip_val=1e-5):\n",
    "    return np.log(np.clip(x, a_min=clip_val, a_max=None) * C)\n",
    "\n",
    "def dynamic_range_decompression(x, C=1):\n",
    "    return np.exp(x) / C\n",
    "\n",
    "def dynamic_range_compression_torch(x, C=1, clip_val=1e-5):\n",
    "    return torch.log(torch.clamp(x, min=clip_val) * C)\n",
    "\n",
    "def dynamic_range_decompression_torch(x, C=1):\n",
    "    return torch.exp(x) / C\n",
    "\n",
    "def spectral_normalize_torch(magnitudes):\n",
    "    output = dynamic_range_compression_torch(magnitudes)\n",
    "    return output\n",
    "\n",
    "def spectral_de_normalize_torch(magnitudes):\n",
    "    output = dynamic_range_decompression_torch(magnitudes)\n",
    "    return output\n",
    "\n",
    "mel_basis = {}\n",
    "hann_window = {}\n",
    "\n",
    "def mel_spectrogram(y, n_fft, num_mels, sampling_rate, hop_size, win_size, fmin, fmax, center=False):\n",
    "    if torch.min(y) < -1.:\n",
    "        print('min value is ', torch.min(y))\n",
    "    if torch.max(y) > 1.:\n",
    "        print('max value is ', torch.max(y))\n",
    "\n",
    "    global mel_basis, hann_window\n",
    "    if fmax not in mel_basis:\n",
    "        mel = librosa_mel_fn(sr=sampling_rate, n_fft=n_fft, n_mels=num_mels, fmin=fmin, fmax=fmax)\n",
    "        mel_basis[str(fmax)+'_'+str(y.device)] = torch.from_numpy(mel).float().to(y.device)\n",
    "        hann_window[str(y.device)] = torch.hann_window(win_size).to(y.device)\n",
    "\n",
    "    y = torch.nn.functional.pad(y.unsqueeze(1), (int((n_fft-hop_size)/2), int((n_fft-hop_size)/2)), mode='reflect')\n",
    "    y = y.squeeze(1)\n",
    "\n",
    "    spec = torch.stft(y, n_fft, hop_length=hop_size, win_length=win_size, window=hann_window[str(y.device)],\n",
    "                      center=center, pad_mode='reflect', normalized=False, onesided=True)\n",
    "\n",
    "    spec = torch.sqrt(spec.pow(2).sum(-1)+(1e-9))\n",
    "\n",
    "    spec = torch.matmul(mel_basis[str(fmax)+'_'+str(y.device)], spec)\n",
    "    spec = spectral_normalize_torch(spec)\n",
    "\n",
    "    return spec"
   ]
  },
  {
   "cell_type": "code",
   "execution_count": 3,
   "metadata": {},
   "outputs": [
    {
     "name": "stdout",
     "output_type": "stream",
     "text": [
      "4684\n"
     ]
    },
    {
     "name": "stderr",
     "output_type": "stream",
     "text": [
      "100%|██████████| 43306/43306 [00:00<00:00, 610067.78it/s]"
     ]
    },
    {
     "name": "stdout",
     "output_type": "stream",
     "text": [
      "11061\n",
      "[{'file_name': '9qKdxSTIBbI.wav', 'text': 'A loud, continuous beep'}, {'file_name': '--Z3ciOmwZQ.wav', 'text': 'Water is bubbling'}, {'file_name': '---lTs1dxhU.wav', 'text': 'A racing vehicle engine is heard passing by'}, {'file_name': '--0PQM4-hqg.wav', 'text': 'A waterfall is pouring into a stream'}, {'file_name': '--1l6WGE7AU.wav', 'text': 'A man speaks earnestly'}, {'file_name': '--CHY2qO5zc.wav', 'text': 'A clock is chiming'}, {'file_name': '--L22BmDI6E.wav', 'text': 'The dog is whimpering sadly'}, {'file_name': '--L3BCCcGEw.wav', 'text': 'Large group of people clapping'}, {'file_name': '--N8lbFywRg.wav', 'text': 'Water running'}, {'file_name': '--Nu0Zp5uSA.wav', 'text': 'He is giving a speech'}]\n"
     ]
    },
    {
     "name": "stderr",
     "output_type": "stream",
     "text": [
      "\n"
     ]
    }
   ],
   "source": [
    "data_path = \"/blob/v-yuancwang/audio_editing_data/audiocaps/wav\"\n",
    "data_refine_path = \"/blob/v-yuancwang/audio_editing_data/audiocaps_refine/wav\"\n",
    "data_refine_set = set(os.listdir(data_refine_path))\n",
    "print(len(data_refine_set))\n",
    "\n",
    "WAV_LENGTH = 16000 * 10 - 128\n",
    "with open(\"/home/v-yuancwang/AudioEditing/metadatas/audiocaps_train_metadata.jsonl\", \"r\") as f:\n",
    "    lines = f.readlines()\n",
    "lines = [eval(line) for line in lines]\n",
    "root_data = []\n",
    "for line in tqdm(lines[:]):\n",
    "    file_name, text = line['file_name'], line['text']\n",
    "    words = list(text.split(\" \"))\n",
    "    if len(words) < 12 and 'and' not in words and 'while' not in words and 'as' not in words and 'with' not in words and \"then\" not in words and \"followed\" not in words:\n",
    "        root_data.append({'file_name': file_name, 'text': text})\n",
    "print(len(root_data))\n",
    "print(root_data[: 10])"
   ]
  },
  {
   "cell_type": "code",
   "execution_count": 17,
   "metadata": {},
   "outputs": [],
   "source": [
    "def genaudio1(wav1, wav2):\n",
    "    wav1 = wav1[: min(len(wav1), len(wav2))]\n",
    "    wav2 = wav2[: min(len(wav1), len(wav2))]\n",
    "    v1 = []\n",
    "    v2 = []\n",
    "    for i in range(0, len(wav1), 1024):\n",
    "        v1.append(np.mean(abs(wav1[i: i+1024])))\n",
    "    for i in range(0, len(wav2), 1024):\n",
    "        v2.append(np.mean(abs(wav2[i: i+1024])))\n",
    "    v1, v2 = max(v1), max(v2)\n",
    "    # print(v1, v2)\n",
    "    wav2 = wav2 * v1 / v2\n",
    "    wav3 = wav1 * 0.88 + wav2 * 0.43\n",
    "    wav3 = np.clip(wav3, -1, 1)\n",
    "    return wav3, 'type1'\n",
    "\n",
    "# def genaudio2(id1, id2):\n",
    "#     wav1 = wav1[: min(len(wav1), len(wav2))]\n",
    "#     wav2 = wav2[: min(len(wav1), len(wav2))]\n",
    "#     wav2_d = len(wav2)\n",
    "#     wav2 = np.pad(wav2, (int(22050 * np.random.uniform(2.5, 5)), 0), 'constant', constant_values=(0, 0))\n",
    "#     wav2 = wav2[: wav2_d]\n",
    "#     e1 = np.sqrt(np.mean((wav1**2)))\n",
    "#     e2 = np.sqrt(np.mean((wav2**2)))\n",
    "#     wav3 = (wav1 * e2 + wav2 * e1) / (e1 + e2)\n",
    "#     wav3 = np.clip(wav3, -1, 1)\n",
    "#     return wav3, 'type2'\n",
    "\n",
    "# def genaudio3(id1, id2):\n",
    "#     wav1 = wav1[: min(len(wav1), len(wav2))]\n",
    "#     wav2 = wav2[: min(len(wav1), len(wav2))]\n",
    "#     wav2_d = len(wav2)\n",
    "#     wav2 = np.pad(wav2, (int(22050 * np.random.uniform(2.5, 5)), 0), 'constant', constant_values=(0, 0))\n",
    "#     wav2 = wav2[: wav2_d]\n",
    "#     wav1_d = int(22050 * np.random.uniform(5, 6))\n",
    "#     if len(wav1) - wav1_d >= 0:\n",
    "#         wav1 = np.append(wav1[:wav1_d], wav1[wav1_d: ] * np.linspace(1, 0, num=len(wav1) - wav1_d))\n",
    "#     e1 = np.sqrt(np.mean((wav1**2)))\n",
    "#     e2 = np.sqrt(np.mean((wav2**2)))\n",
    "#     wav3 = (wav1 * e2 + wav2 * e1) / (e1 + e2)\n",
    "#     wav3 = np.clip(wav3, -1, 1)\n",
    "#     return wav3, 'type3'"
   ]
  },
  {
   "cell_type": "code",
   "execution_count": 16,
   "metadata": {},
   "outputs": [],
   "source": [
    "save_path = \"/blob/v-yuancwang/audio_editing_data/add_test\""
   ]
  },
  {
   "cell_type": "code",
   "execution_count": 18,
   "metadata": {},
   "outputs": [],
   "source": [
    "from shutil import copyfile"
   ]
  },
  {
   "cell_type": "code",
   "execution_count": 22,
   "metadata": {},
   "outputs": [
    {
     "name": "stderr",
     "output_type": "stream",
     "text": [
      "100%|██████████| 100/100 [00:35<00:00,  2.85it/s]\n"
     ]
    }
   ],
   "source": [
    "import random\n",
    "metadatas = []\n",
    "random.shuffle(root_data)\n",
    "for i in tqdm(range(100)):\n",
    "    id1 = np.random.randint(0, len(root_data))\n",
    "    id1 = i\n",
    "    id2 = id1\n",
    "    while(id2 == id1):\n",
    "        id2 = np.random.randint(0, len(root_data))\n",
    "    name1, name2 = root_data[id1][\"file_name\"], root_data[id2][\"file_name\"]\n",
    "    text1, text2 = root_data[id1][\"text\"], root_data[id2][\"text\"]\n",
    "    # print(name1, name2, text1, text2)\n",
    "\n",
    "    if name1 in data_refine_set:\n",
    "        wav1, _ = librosa.load(os.path.join(data_refine_path, name1), sr=16000)\n",
    "        name1 = os.path.join(data_refine_path, name1)\n",
    "    else:\n",
    "        wav1, _ = librosa.load(os.path.join(data_path, name1), sr=16000)\n",
    "        name1 = os.path.join(data_path, name1)\n",
    "    if name2 in data_refine_set:\n",
    "        wav2, _ = librosa.load(os.path.join(data_refine_path, name2), sr=16000)\n",
    "        name2 = os.path.join(data_refine_path, name2)\n",
    "    else:\n",
    "        wav2, _ = librosa.load(os.path.join(data_path, name2), sr=16000)\n",
    "        name2 = os.path.join(data_path, name2)\n",
    "    \n",
    "    wav3, type_class = genaudio1(wav1, wav2)\n",
    "    x3 = torch.FloatTensor(wav3)\n",
    "    x3 = mel_spectrogram(x3.unsqueeze(0), n_fft=1024, num_mels=80, sampling_rate=16000,\n",
    "                    hop_size=256, win_size=1024, fmin=0, fmax=8000)\n",
    "    spec3 = x3.cpu().numpy()[0]\n",
    "    # print(spec3.shape)\n",
    "\n",
    "    wav3 = wav3 * MAX_WAV_VALUE\n",
    "    wav3 = wav3.astype('int16')\n",
    "\n",
    "    # wav_name = 'audiocaps' + type_class + 'gen' + str(i) + '.wav'\n",
    "    # spec_name = 'audiocaps' + type_class + 'gen' + str(i) + '.npy'\n",
    "    wav_name = \"add_test_\" + str(i) + '.wav'\n",
    "    spec_name = \"add_test_\" + str(i) + '.npy'\n",
    "    copyfile(name1, os.path.join(save_path.replace(\"add\", \"drop\"), \"wav\", \"drop_test_\" + str(i) + '.wav'))\n",
    "    copyfile(name1.replace(\".wav\", \".npy\").replace(\"/wav/\", \"/mel/\"), os.path.join(save_path.replace(\"add\", \"drop\"), \"mel\", \"drop_test_\" + str(i) + '.npy'))\n",
    "    name1 = os.path.join(save_path.replace(\"add\", \"drop\"), \"wav\", \"drop_test_\" + str(i) + '.wav')\n",
    "\n",
    "    write(os.path.join(save_path, \"wav\", wav_name), 16000, wav3)\n",
    "    np.save(os.path.join(save_path, \"mel\", spec_name), spec3)\n",
    "\n",
    "    metadatas.append((name1, name2, wav_name, text1, text2, type_class))\n",
    "\n",
    "with open(\"/home/v-yuancwang/AudioEditing/test_baseline/add.txt\", \"w\") as f:\n",
    "    for name1, name2, wav_name, text1, text2, _ in metadatas:\n",
    "        # f.write(wav_name  + \"   \" + name1 + \"   \" + name2  + \"   \"  +  text1  + \"   \" +  text2  + \"   \" + \"\\n\")\n",
    "        f.write(os.path.join(save_path, \"wav\", wav_name) + \"   \" + name1 + \"   \" + text1 + \"   \" + text2 + \"\\n\")"
   ]
  },
  {
   "cell_type": "code",
   "execution_count": null,
   "metadata": {},
   "outputs": [],
   "source": []
  }
 ],
 "metadata": {
  "kernelspec": {
   "display_name": "py3.7",
   "language": "python",
   "name": "python3"
  },
  "language_info": {
   "codemirror_mode": {
    "name": "ipython",
    "version": 3
   },
   "file_extension": ".py",
   "mimetype": "text/x-python",
   "name": "python",
   "nbconvert_exporter": "python",
   "pygments_lexer": "ipython3",
   "version": "3.7.16"
  },
  "orig_nbformat": 4,
  "vscode": {
   "interpreter": {
    "hash": "0ee27c2a92f1fff136d50aad92bfca040aea835edd9bacd8b4c989384ca9eab3"
   }
  }
 },
 "nbformat": 4,
 "nbformat_minor": 2
}
