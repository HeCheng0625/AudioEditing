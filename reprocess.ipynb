{
 "cells": [
  {
   "cell_type": "code",
   "execution_count": 1,
   "metadata": {},
   "outputs": [],
   "source": [
    "from scipy.io.wavfile import read, write\n",
    "import torchaudio\n",
    "import torch\n",
    "from librosa.util import normalize\n",
    "from librosa.filters import mel as librosa_mel_fn\n",
    "import numpy as np\n",
    "import librosa\n",
    "import librosa.display\n",
    "from tqdm import tqdm\n",
    "import os\n",
    "import soundfile as sf\n",
    "import matplotlib.pyplot as plt\n",
    "%matplotlib inline"
   ]
  },
  {
   "cell_type": "code",
   "execution_count": 4,
   "metadata": {},
   "outputs": [
    {
     "name": "stdout",
     "output_type": "stream",
     "text": [
      "43306\n"
     ]
    }
   ],
   "source": [
    "wav_path = \"/blob/v-yuancwang/audio_editing_data/audiocaps/wav\"\n",
    "wav_files = os.listdir(wav_path)\n",
    "print(len(wav_files))"
   ]
  },
  {
   "cell_type": "code",
   "execution_count": 8,
   "metadata": {},
   "outputs": [],
   "source": [
    "MAX_WAV_VALUE = 32768.0\n",
    "save_path = \"/blob/v-yuancwang/audio_editing_data/audiocaps_refine\""
   ]
  },
  {
   "cell_type": "code",
   "execution_count": 33,
   "metadata": {},
   "outputs": [
    {
     "name": "stderr",
     "output_type": "stream",
     "text": [
      "  2%|▏         | 19/1000 [00:00<00:08, 112.80it/s]"
     ]
    },
    {
     "name": "stdout",
     "output_type": "stream",
     "text": [
      "0.0022961795 --N8lbFywRg.wav\n",
      "0.002485633 --RBwc_VFYA.wav\n",
      "0.012067169 --V9KO_QLxk.wav\n"
     ]
    },
    {
     "name": "stderr",
     "output_type": "stream",
     "text": [
      "  3%|▎         | 31/1000 [00:00<00:17, 54.79it/s] "
     ]
    },
    {
     "name": "stdout",
     "output_type": "stream",
     "text": [
      "0.0072425604 --YiwOrObMM.wav\n",
      "0.016913354 --l7xfUFwc8.wav\n"
     ]
    },
    {
     "name": "stderr",
     "output_type": "stream",
     "text": [
      "  5%|▍         | 48/1000 [00:00<00:12, 73.34it/s]"
     ]
    },
    {
     "name": "stdout",
     "output_type": "stream",
     "text": [
      "0.0148305595 -0N94QVF92E.wav\n",
      "0.004972458 -0PoYyUq4kE.wav\n",
      "0.012141019 -0TJmdb_QjQ.wav\n"
     ]
    },
    {
     "name": "stderr",
     "output_type": "stream",
     "text": [
      " 10%|▉         | 96/1000 [00:01<00:08, 102.50it/s]"
     ]
    },
    {
     "name": "stdout",
     "output_type": "stream",
     "text": [
      "0.01381588 -1guPbH2s3Y.wav\n",
      "0.01699686 -1hLtbqqxTM.wav\n",
      "0.015410036 -2--Xzix2Vk.wav\n"
     ]
    },
    {
     "name": "stderr",
     "output_type": "stream",
     "text": [
      " 11%|█         | 109/1000 [00:01<00:10, 82.59it/s]"
     ]
    },
    {
     "name": "stdout",
     "output_type": "stream",
     "text": [
      "0.008587241 -247Mdo8nJ8.wav\n",
      "0.00977236 -2Ha-_EgvO4.wav\n",
      "0.01606664 -2TlUBZ2lU4.wav\n"
     ]
    },
    {
     "name": "stderr",
     "output_type": "stream",
     "text": [
      " 13%|█▎        | 130/1000 [00:01<00:11, 72.92it/s]"
     ]
    },
    {
     "name": "stdout",
     "output_type": "stream",
     "text": [
      "0.017006487 -2WBGJ3rWX8.wav\n",
      "0.00445801 -2YTLhYX3Jo.wav\n",
      "0.0056349337 -2qHGzHjUOU.wav\n"
     ]
    },
    {
     "name": "stderr",
     "output_type": "stream",
     "text": [
      " 18%|█▊        | 175/1000 [00:01<00:06, 121.26it/s]"
     ]
    },
    {
     "name": "stdout",
     "output_type": "stream",
     "text": [
      "0.00828594 -43v51oAu6I.wav\n",
      "0.015061796 -46xqouqMxA.wav\n",
      "0.008775771 -4B1PkgXOMI.wav\n",
      "0.0022544563 -4B9Xf1b1yI.wav\n"
     ]
    },
    {
     "name": "stderr",
     "output_type": "stream",
     "text": [
      " 19%|█▉        | 189/1000 [00:02<00:08, 93.38it/s] "
     ]
    },
    {
     "name": "stdout",
     "output_type": "stream",
     "text": [
      "0.011751741 -4BWc0v8Y7U.wav\n",
      "0.012445122 -4c0GKMHLkE.wav\n",
      "0.015658885 -4idfEmhn4g.wav\n",
      "0.012498707 -4jYmwwf6h4.wav\n"
     ]
    },
    {
     "name": "stderr",
     "output_type": "stream",
     "text": [
      " 22%|██▏       | 216/1000 [00:02<00:08, 94.62it/s]"
     ]
    },
    {
     "name": "stdout",
     "output_type": "stream",
     "text": [
      "0.0053625107 -4tFyjKAH7o.wav\n",
      "0.0014223158 -5EoTUVneQA.wav\n",
      "0.018619955 -5Gkjo10JLU.wav\n"
     ]
    },
    {
     "name": "stderr",
     "output_type": "stream",
     "text": [
      " 24%|██▍       | 239/1000 [00:02<00:08, 91.14it/s]"
     ]
    },
    {
     "name": "stdout",
     "output_type": "stream",
     "text": [
      "0.018668205 -5REafhKzcA.wav\n",
      "0.018868566 -5q8Wh2H8fw.wav\n"
     ]
    },
    {
     "name": "stderr",
     "output_type": "stream",
     "text": [
      " 28%|██▊       | 278/1000 [00:03<00:06, 110.53it/s]"
     ]
    },
    {
     "name": "stdout",
     "output_type": "stream",
     "text": [
      "0.018223137 -6AOy8GAMpM.wav\n",
      "0.0027406514 -6YoqXs1e_U.wav\n"
     ]
    },
    {
     "name": "stderr",
     "output_type": "stream",
     "text": [
      " 29%|██▉       | 290/1000 [00:03<00:07, 100.39it/s]"
     ]
    },
    {
     "name": "stdout",
     "output_type": "stream",
     "text": [
      "0.013363212 -6oD0Eu8w7g.wav\n",
      "0.010070711 -7DZifiouoM.wav\n"
     ]
    },
    {
     "name": "stderr",
     "output_type": "stream",
     "text": [
      " 32%|███▏      | 324/1000 [00:03<00:06, 107.29it/s]"
     ]
    },
    {
     "name": "stdout",
     "output_type": "stream",
     "text": [
      "0.007799864 -7TpSmofVDo.wav\n",
      "0.011474729 -7aNPr1x2aQ.wav\n"
     ]
    },
    {
     "name": "stderr",
     "output_type": "stream",
     "text": [
      " 34%|███▎      | 335/1000 [00:03<00:06, 106.22it/s]"
     ]
    },
    {
     "name": "stdout",
     "output_type": "stream",
     "text": [
      "0.0048614144 -8CwWdltmxM.wav\n",
      "0.0030235946 -8HCidJbNh0.wav\n",
      "0.012021422 -8Vvk15NwpE.wav\n"
     ]
    },
    {
     "name": "stderr",
     "output_type": "stream",
     "text": [
      " 36%|███▌      | 356/1000 [00:04<00:08, 74.21it/s] "
     ]
    },
    {
     "name": "stdout",
     "output_type": "stream",
     "text": [
      "0.017401487 -8bblB1i5p4.wav\n",
      "0.011395365 -8tskHwTfcQ.wav\n"
     ]
    },
    {
     "name": "stderr",
     "output_type": "stream",
     "text": [
      " 38%|███▊      | 375/1000 [00:04<00:08, 77.60it/s]"
     ]
    },
    {
     "name": "stdout",
     "output_type": "stream",
     "text": [
      "0.0045987964 -8yCp5GagJA.wav\n",
      "0.013424367 -9FNqXff1tE.wav\n",
      "0.0072846413 -9TCNRyvZss.wav\n"
     ]
    },
    {
     "name": "stderr",
     "output_type": "stream",
     "text": [
      " 42%|████▎     | 425/1000 [00:04<00:04, 122.03it/s]"
     ]
    },
    {
     "name": "stdout",
     "output_type": "stream",
     "text": [
      "0.014456689 -A8YCVunrGk.wav\n",
      "0.015625864 -AY_lZLYJR8.wav\n"
     ]
    },
    {
     "name": "stderr",
     "output_type": "stream",
     "text": [
      " 44%|████▍     | 439/1000 [00:04<00:05, 99.53it/s] "
     ]
    },
    {
     "name": "stdout",
     "output_type": "stream",
     "text": [
      "0.014319807 -AbW8iQYhG4.wav\n"
     ]
    },
    {
     "name": "stderr",
     "output_type": "stream",
     "text": [
      " 48%|████▊     | 476/1000 [00:05<00:05, 94.83it/s]"
     ]
    },
    {
     "name": "stdout",
     "output_type": "stream",
     "text": [
      "0.011170119 -B2_cFBbzWg.wav\n",
      "0.015588045 -BIZ7zQO3_o.wav\n",
      "0.009059042 -Bnctvh_6uc.wav\n"
     ]
    },
    {
     "name": "stderr",
     "output_type": "stream",
     "text": [
      " 51%|█████     | 512/1000 [00:05<00:04, 119.33it/s]"
     ]
    },
    {
     "name": "stdout",
     "output_type": "stream",
     "text": [
      "0.019046962 -CkJyZ2fFOY.wav\n",
      "0.01971063 -D4aoPlD81Y.wav\n"
     ]
    },
    {
     "name": "stderr",
     "output_type": "stream",
     "text": [
      " 54%|█████▍    | 540/1000 [00:05<00:04, 109.80it/s]"
     ]
    },
    {
     "name": "stdout",
     "output_type": "stream",
     "text": [
      "0.010464102 -DMGHwhP928.wav\n",
      "0.014005989 -DexfVugZDE.wav\n",
      "0.0022659302 -DhD6NQulug.wav\n"
     ]
    },
    {
     "name": "stderr",
     "output_type": "stream",
     "text": [
      " 55%|█████▌    | 552/1000 [00:05<00:04, 92.03it/s] "
     ]
    },
    {
     "name": "stdout",
     "output_type": "stream",
     "text": [
      "0.0072056353 -DkdgfC1d7Q.wav\n",
      "0.010186434 -E12ckSK3fY.wav\n"
     ]
    },
    {
     "name": "stderr",
     "output_type": "stream",
     "text": [
      " 57%|█████▋    | 573/1000 [00:06<00:05, 77.68it/s]"
     ]
    },
    {
     "name": "stdout",
     "output_type": "stream",
     "text": [
      "0.016289234 -ECNklRUX4I.wav\n",
      "0.007313758 -EDRNpIlIwo.wav\n",
      "0.011402816 -EOnS_BJl5A.wav\n"
     ]
    },
    {
     "name": "stderr",
     "output_type": "stream",
     "text": [
      " 60%|██████    | 600/1000 [00:06<00:04, 88.52it/s]"
     ]
    },
    {
     "name": "stdout",
     "output_type": "stream",
     "text": [
      "0.014931083 -EcHYnFsGkw.wav\n",
      "0.011839867 -EsKQANaKY0.wav\n"
     ]
    },
    {
     "name": "stderr",
     "output_type": "stream",
     "text": [
      " 63%|██████▎   | 629/1000 [00:06<00:03, 107.13it/s]"
     ]
    },
    {
     "name": "stdout",
     "output_type": "stream",
     "text": [
      "0.012883067 -F2OFe7DdD4.wav\n",
      "0.009650439 -FWkB2IDMhc.wav\n"
     ]
    },
    {
     "name": "stderr",
     "output_type": "stream",
     "text": [
      " 64%|██████▍   | 641/1000 [00:06<00:03, 99.02it/s] "
     ]
    },
    {
     "name": "stdout",
     "output_type": "stream",
     "text": [
      "0.016252726 -FdlM9BEkac.wav\n",
      "0.0022500157 -Fh3GhU1QOc.wav\n",
      "0.019681007 -G0mCL3NNQE.wav\n"
     ]
    },
    {
     "name": "stderr",
     "output_type": "stream",
     "text": [
      " 66%|██████▌   | 662/1000 [00:07<00:04, 81.05it/s]"
     ]
    },
    {
     "name": "stdout",
     "output_type": "stream",
     "text": [
      "0.01085332 -GCrlnmT1CI.wav\n",
      "0.016604215 -GXt9AWAUDA.wav\n"
     ]
    },
    {
     "name": "stderr",
     "output_type": "stream",
     "text": [
      " 69%|██████▊   | 686/1000 [00:07<00:03, 81.78it/s]"
     ]
    },
    {
     "name": "stdout",
     "output_type": "stream",
     "text": [
      "0.014691919 -GhPqBvBVUw.wav\n",
      "0.008952796 -GujlR2WxPs.wav\n",
      "0.008120358 -Gz3fJ1ZDCQ.wav\n"
     ]
    },
    {
     "name": "stderr",
     "output_type": "stream",
     "text": [
      " 70%|██████▉   | 696/1000 [00:07<00:03, 79.25it/s]"
     ]
    },
    {
     "name": "stdout",
     "output_type": "stream",
     "text": [
      "0.0152587 -HCxERW__4g.wav\n",
      "0.016530067 -HLTp7gPBEw.wav\n",
      "0.01914832 -HMV5ZZPkFo.wav\n"
     ]
    },
    {
     "name": "stderr",
     "output_type": "stream",
     "text": [
      " 71%|███████▏  | 713/1000 [00:07<00:03, 72.60it/s]"
     ]
    },
    {
     "name": "stdout",
     "output_type": "stream",
     "text": [
      "0.018683523 -HTzStR9WCU.wav\n",
      "0.01615408 -Hwn7UdBguE.wav\n"
     ]
    },
    {
     "name": "stderr",
     "output_type": "stream",
     "text": [
      " 74%|███████▍  | 738/1000 [00:08<00:03, 71.97it/s]"
     ]
    },
    {
     "name": "stdout",
     "output_type": "stream",
     "text": [
      "0.012992144 -I1upuU0HXs.wav\n",
      "0.017410249 -I2wwE7WFOU.wav\n"
     ]
    },
    {
     "name": "stderr",
     "output_type": "stream",
     "text": [
      " 76%|███████▌  | 757/1000 [00:08<00:03, 79.98it/s]"
     ]
    },
    {
     "name": "stdout",
     "output_type": "stream",
     "text": [
      "0.016925275 -IK4okM-Xxw.wav\n",
      "0.012278527 -IbSBeEuZ_w.wav\n",
      "0.008192509 -ImF0CfLttk.wav\n"
     ]
    },
    {
     "name": "stderr",
     "output_type": "stream",
     "text": [
      " 78%|███████▊  | 775/1000 [00:08<00:02, 75.44it/s]"
     ]
    },
    {
     "name": "stdout",
     "output_type": "stream",
     "text": [
      "0.0058431327 -IzmxeAmmGs.wav\n",
      "0.005573809 -J0fLqumm_s.wav\n",
      "0.016418904 -JFFbS1Z8DE.wav\n"
     ]
    },
    {
     "name": "stderr",
     "output_type": "stream",
     "text": [
      " 80%|███████▉  | 795/1000 [00:08<00:02, 79.65it/s]"
     ]
    },
    {
     "name": "stdout",
     "output_type": "stream",
     "text": [
      "0.004455626 -JXjioXie3c.wav\n",
      "0.017807603 -KVrHjbwy5M.wav\n"
     ]
    },
    {
     "name": "stderr",
     "output_type": "stream",
     "text": [
      " 85%|████████▍ | 849/1000 [00:09<00:01, 117.41it/s]"
     ]
    },
    {
     "name": "stdout",
     "output_type": "stream",
     "text": [
      "0.006952226 -KqJjhvd_bo.wav\n",
      "0.009860218 -LR6jZzVFHs.wav\n"
     ]
    },
    {
     "name": "stderr",
     "output_type": "stream",
     "text": [
      " 86%|████████▌ | 861/1000 [00:09<00:01, 99.41it/s] "
     ]
    },
    {
     "name": "stdout",
     "output_type": "stream",
     "text": [
      "0.015122801 -LS-JevBX3E.wav\n",
      "0.010853022 -LbiadrZ7OQ.wav\n",
      "0.018728763 -Ln9HQ6lLtI.wav\n"
     ]
    },
    {
     "name": "stderr",
     "output_type": "stream",
     "text": [
      " 88%|████████▊ | 882/1000 [00:09<00:01, 90.53it/s]"
     ]
    },
    {
     "name": "stdout",
     "output_type": "stream",
     "text": [
      "0.015774399 -LoLWmQpaU8.wav\n",
      "0.0024178326 -M-U0XvpB08.wav\n",
      "0.017689645 -MAOwvbL-XY.wav\n"
     ]
    },
    {
     "name": "stderr",
     "output_type": "stream",
     "text": [
      " 89%|████████▉ | 892/1000 [00:09<00:01, 84.86it/s]"
     ]
    },
    {
     "name": "stdout",
     "output_type": "stream",
     "text": [
      "0.0015244782 -MCWb5PQvPI.wav\n",
      "0.019304156 -MixfkIwVwk.wav\n"
     ]
    },
    {
     "name": "stderr",
     "output_type": "stream",
     "text": [
      " 92%|█████████▎| 925/1000 [00:10<00:00, 101.56it/s]"
     ]
    },
    {
     "name": "stdout",
     "output_type": "stream",
     "text": [
      "0.018274665 -Mo7R6zQ23M.wav\n",
      "0.009455889 -NAudeSqwWc.wav\n"
     ]
    },
    {
     "name": "stderr",
     "output_type": "stream",
     "text": [
      " 97%|█████████▋| 967/1000 [00:10<00:00, 108.88it/s]"
     ]
    },
    {
     "name": "stdout",
     "output_type": "stream",
     "text": [
      "0.011869907 -NbQtU6kHDQ.wav\n",
      "0.018308342 -NsUQ2A0ClQ.wav\n"
     ]
    },
    {
     "name": "stderr",
     "output_type": "stream",
     "text": [
      " 99%|█████████▉| 989/1000 [00:10<00:00, 100.50it/s]"
     ]
    },
    {
     "name": "stdout",
     "output_type": "stream",
     "text": [
      "0.013153315 -O7aTNBwnQw.wav\n",
      "0.006897539 -OFirIvejBQ.wav\n"
     ]
    },
    {
     "name": "stderr",
     "output_type": "stream",
     "text": [
      "100%|██████████| 1000/1000 [00:10<00:00, 90.98it/s]"
     ]
    },
    {
     "name": "stdout",
     "output_type": "stream",
     "text": [
      "0.012689918 -OW80ngpmqk.wav\n",
      "0.008150786 -O_Z1cDQWLg.wav\n"
     ]
    },
    {
     "name": "stderr",
     "output_type": "stream",
     "text": [
      "\n"
     ]
    }
   ],
   "source": [
    "V = []\n",
    "for file_name in tqdm(wav_files[:]):\n",
    "    wav, sr = librosa.load(os.path.join(wav_path, file_name), sr=16000)\n",
    "    v = []\n",
    "    for i in range(0, len(wav), 1024):\n",
    "        v.append(np.mean(abs(wav[i: i+1024])))\n",
    "    V.append(max(v))\n",
    "    if max(v) < 0.02:\n",
    "        print(max(v), file_name)\n",
    "        wav *= 5\n",
    "        wav = wav * MAX_WAV_VALUE\n",
    "        wav = wav.astype('int16')\n",
    "        write(os.path.join(save_path, \"wav\", file_name), 16000, wav)\n",
    "    if max(v) > 0.4:\n",
    "        print(max(v), file_name)\n",
    "        wav *= 2\n",
    "        wav = wav * MAX_WAV_VALUE\n",
    "        wav = wav.astype('int16')\n",
    "        write(os.path.join(save_path, \"wav\", file_name), 16000, wav)"
   ]
  },
  {
   "cell_type": "code",
   "execution_count": 26,
   "metadata": {},
   "outputs": [
    {
     "data": {
      "text/plain": [
       "[<matplotlib.lines.Line2D at 0x7f8e10128150>]"
      ]
     },
     "execution_count": 26,
     "metadata": {},
     "output_type": "execute_result"
    },
    {
     "data": {
      "image/png": "[encoded data removed]",
      "text/plain": [
       "<Figure size 640x480 with 1 Axes>"
      ]
     },
     "metadata": {},
     "output_type": "display_data"
    }
   ],
   "source": [
    "plt.plot(wav)"
   ]
  }
 ],
 "metadata": {
  "kernelspec": {
   "display_name": "py3.7",
   "language": "python",
   "name": "python3"
  },
  "language_info": {
   "codemirror_mode": {
    "name": "ipython",
    "version": 3
   },
   "file_extension": ".py",
   "mimetype": "text/x-python",
   "name": "python",
   "nbconvert_exporter": "python",
   "pygments_lexer": "ipython3",
   "version": "3.7.16"
  },
  "orig_nbformat": 4,
  "vscode": {
   "interpreter": {
    "hash": "0ee27c2a92f1fff136d50aad92bfca040aea835edd9bacd8b4c989384ca9eab3"
   }
  }
 },
 "nbformat": 4,
 "nbformat_minor": 2
}
